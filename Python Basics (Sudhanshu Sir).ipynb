{
 "cells": [
  {
   "cell_type": "code",
   "execution_count": 1,
   "id": "4db4e3a4",
   "metadata": {},
   "outputs": [
    {
     "name": "stdout",
     "output_type": "stream",
     "text": [
      "This is my first python program\n"
     ]
    }
   ],
   "source": [
    "print(\"This is my first python program\")"
   ]
  },
  {
   "cell_type": "code",
   "execution_count": 2,
   "id": "52937623",
   "metadata": {},
   "outputs": [],
   "source": [
    "# print \"This is my first python program\"  This syntax is correct for 2.x"
   ]
  },
  {
   "cell_type": "code",
   "execution_count": 3,
   "id": "d38c1769",
   "metadata": {},
   "outputs": [
    {
     "data": {
      "text/plain": [
       "'This is a\\nmultiple line comment\\nin python..\\nThis is very\\nvery cool '"
      ]
     },
     "execution_count": 3,
     "metadata": {},
     "output_type": "execute_result"
    }
   ],
   "source": [
    "\"\"\"This is a\n",
    "multiple line comment\n",
    "in python..\n",
    "This is very\n",
    "very cool \"\"\""
   ]
  },
  {
   "cell_type": "markdown",
   "id": "4003e57a",
   "metadata": {},
   "source": [
    "### Variables"
   ]
  },
  {
   "cell_type": "code",
   "execution_count": 4,
   "id": "620960d9",
   "metadata": {},
   "outputs": [],
   "source": [
    "# Variables are storage of data"
   ]
  },
  {
   "cell_type": "code",
   "execution_count": 5,
   "id": "c6eca909",
   "metadata": {},
   "outputs": [],
   "source": [
    "a = 10"
   ]
  },
  {
   "cell_type": "code",
   "execution_count": 6,
   "id": "fc3b2ebd",
   "metadata": {},
   "outputs": [
    {
     "data": {
      "text/plain": [
       "10"
      ]
     },
     "execution_count": 6,
     "metadata": {},
     "output_type": "execute_result"
    }
   ],
   "source": [
    "a"
   ]
  },
  {
   "cell_type": "code",
   "execution_count": 7,
   "id": "d7c0111b",
   "metadata": {},
   "outputs": [
    {
     "data": {
      "text/plain": [
       "int"
      ]
     },
     "execution_count": 7,
     "metadata": {},
     "output_type": "execute_result"
    }
   ],
   "source": [
    "type(a)"
   ]
  },
  {
   "cell_type": "code",
   "execution_count": 8,
   "id": "a56473ba",
   "metadata": {},
   "outputs": [],
   "source": [
    "a = 2 + 3j"
   ]
  },
  {
   "cell_type": "code",
   "execution_count": 9,
   "id": "2b980ca8",
   "metadata": {},
   "outputs": [
    {
     "data": {
      "text/plain": [
       "(2+3j)"
      ]
     },
     "execution_count": 9,
     "metadata": {},
     "output_type": "execute_result"
    }
   ],
   "source": [
    "a  # now (2+3j) overwrites a = 10"
   ]
  },
  {
   "cell_type": "code",
   "execution_count": 10,
   "id": "cb2e0f9c",
   "metadata": {},
   "outputs": [
    {
     "data": {
      "text/plain": [
       "complex"
      ]
     },
     "execution_count": 10,
     "metadata": {},
     "output_type": "execute_result"
    }
   ],
   "source": [
    "type(a)"
   ]
  },
  {
   "cell_type": "code",
   "execution_count": 11,
   "id": "8592a7e9",
   "metadata": {},
   "outputs": [],
   "source": [
    "b = \"shubham\""
   ]
  },
  {
   "cell_type": "code",
   "execution_count": 12,
   "id": "a2eca5d7",
   "metadata": {},
   "outputs": [
    {
     "data": {
      "text/plain": [
       "'shubham'"
      ]
     },
     "execution_count": 12,
     "metadata": {},
     "output_type": "execute_result"
    }
   ],
   "source": [
    "b"
   ]
  },
  {
   "cell_type": "code",
   "execution_count": 13,
   "id": "42a11ade",
   "metadata": {},
   "outputs": [],
   "source": [
    "b = '\"shubham\"'"
   ]
  },
  {
   "cell_type": "code",
   "execution_count": 14,
   "id": "8ae60cee",
   "metadata": {},
   "outputs": [
    {
     "data": {
      "text/plain": [
       "'\"shubham\"'"
      ]
     },
     "execution_count": 14,
     "metadata": {},
     "output_type": "execute_result"
    }
   ],
   "source": [
    "b"
   ]
  },
  {
   "cell_type": "code",
   "execution_count": 15,
   "id": "729d33ff",
   "metadata": {},
   "outputs": [],
   "source": [
    "c = '128 shubham tiwari'"
   ]
  },
  {
   "cell_type": "code",
   "execution_count": 16,
   "id": "e91c538b",
   "metadata": {},
   "outputs": [
    {
     "data": {
      "text/plain": [
       "str"
      ]
     },
     "execution_count": 16,
     "metadata": {},
     "output_type": "execute_result"
    }
   ],
   "source": [
    "type(c)"
   ]
  },
  {
   "cell_type": "code",
   "execution_count": 19,
   "id": "f75b6307",
   "metadata": {},
   "outputs": [
    {
     "name": "stdout",
     "output_type": "stream",
     "text": [
      "(2+3j) \"shubham\" This is my name\n"
     ]
    }
   ],
   "source": [
    "print(a,b,\"This is my name\") # multiple outputs in a single line"
   ]
  },
  {
   "cell_type": "code",
   "execution_count": 20,
   "id": "0823d6ff",
   "metadata": {},
   "outputs": [
    {
     "name": "stdout",
     "output_type": "stream",
     "text": [
      "(2+3j) shubham 128 shubham tiwari\n"
     ]
    }
   ],
   "source": [
    "print(a,\"shubham\",c)"
   ]
  },
  {
   "cell_type": "code",
   "execution_count": 24,
   "id": "3a8017d7",
   "metadata": {},
   "outputs": [],
   "source": [
    "# multiple inputs in a single line\n",
    "\n",
    "a,b,c = 10, 45, \"2809\""
   ]
  },
  {
   "cell_type": "code",
   "execution_count": 25,
   "id": "a21c50c5",
   "metadata": {},
   "outputs": [
    {
     "data": {
      "text/plain": [
       "10"
      ]
     },
     "execution_count": 25,
     "metadata": {},
     "output_type": "execute_result"
    }
   ],
   "source": [
    "a"
   ]
  },
  {
   "cell_type": "code",
   "execution_count": 26,
   "id": "c0aec8a8",
   "metadata": {},
   "outputs": [
    {
     "data": {
      "text/plain": [
       "45"
      ]
     },
     "execution_count": 26,
     "metadata": {},
     "output_type": "execute_result"
    }
   ],
   "source": [
    "b"
   ]
  },
  {
   "cell_type": "code",
   "execution_count": 27,
   "id": "ff433044",
   "metadata": {},
   "outputs": [
    {
     "data": {
      "text/plain": [
       "'2809'"
      ]
     },
     "execution_count": 27,
     "metadata": {},
     "output_type": "execute_result"
    }
   ],
   "source": [
    "c"
   ]
  },
  {
   "cell_type": "code",
   "execution_count": 28,
   "id": "bc896eab",
   "metadata": {},
   "outputs": [
    {
     "data": {
      "text/plain": [
       "(10, 45, '2809')"
      ]
     },
     "execution_count": 28,
     "metadata": {},
     "output_type": "execute_result"
    }
   ],
   "source": [
    "a,b,c  # this is going to return the output in the form of tuples"
   ]
  },
  {
   "cell_type": "code",
   "execution_count": 30,
   "id": "1a8c34b2",
   "metadata": {},
   "outputs": [],
   "source": [
    "d = a,b,c"
   ]
  },
  {
   "cell_type": "code",
   "execution_count": 31,
   "id": "06c87b25",
   "metadata": {},
   "outputs": [
    {
     "data": {
      "text/plain": [
       "tuple"
      ]
     },
     "execution_count": 31,
     "metadata": {},
     "output_type": "execute_result"
    }
   ],
   "source": [
    "type(d)"
   ]
  },
  {
   "cell_type": "code",
   "execution_count": 33,
   "id": "7911a374",
   "metadata": {},
   "outputs": [
    {
     "data": {
      "text/plain": [
       "'shubham Tiwari'"
      ]
     },
     "execution_count": 33,
     "metadata": {},
     "output_type": "execute_result"
    }
   ],
   "source": [
    "first_name = \"shubham\"\n",
    "last_name = \" Tiwari\"\n",
    "full_name = first_name + last_name\n",
    "full_name"
   ]
  },
  {
   "cell_type": "code",
   "execution_count": 35,
   "id": "7b233e2e",
   "metadata": {},
   "outputs": [],
   "source": [
    "_name = \"shubham\""
   ]
  },
  {
   "cell_type": "code",
   "execution_count": 36,
   "id": "0d293b39",
   "metadata": {},
   "outputs": [
    {
     "data": {
      "text/plain": [
       "'shubham'"
      ]
     },
     "execution_count": 36,
     "metadata": {},
     "output_type": "execute_result"
    }
   ],
   "source": [
    "_name  # we can use (_)"
   ]
  },
  {
   "cell_type": "code",
   "execution_count": 37,
   "id": "8a045c80",
   "metadata": {},
   "outputs": [],
   "source": [
    "a = 0.38"
   ]
  },
  {
   "cell_type": "code",
   "execution_count": 38,
   "id": "c37cdf2b",
   "metadata": {},
   "outputs": [
    {
     "data": {
      "text/plain": [
       "float"
      ]
     },
     "execution_count": 38,
     "metadata": {},
     "output_type": "execute_result"
    }
   ],
   "source": [
    "type(a)"
   ]
  },
  {
   "cell_type": "code",
   "execution_count": 39,
   "id": "8eb70a3a",
   "metadata": {},
   "outputs": [],
   "source": [
    "# boolean variables\n",
    "\n",
    "a = True\n",
    "b = False"
   ]
  },
  {
   "cell_type": "code",
   "execution_count": 42,
   "id": "ad265dea",
   "metadata": {},
   "outputs": [],
   "source": [
    "c = a,b"
   ]
  },
  {
   "cell_type": "code",
   "execution_count": 43,
   "id": "93a5237b",
   "metadata": {},
   "outputs": [
    {
     "data": {
      "text/plain": [
       "tuple"
      ]
     },
     "execution_count": 43,
     "metadata": {},
     "output_type": "execute_result"
    }
   ],
   "source": [
    "type(c)"
   ]
  },
  {
   "cell_type": "code",
   "execution_count": 44,
   "id": "a3455201",
   "metadata": {},
   "outputs": [
    {
     "data": {
      "text/plain": [
       "bool"
      ]
     },
     "execution_count": 44,
     "metadata": {},
     "output_type": "execute_result"
    }
   ],
   "source": [
    "type(a)"
   ]
  },
  {
   "cell_type": "code",
   "execution_count": 45,
   "id": "0b2bad31",
   "metadata": {},
   "outputs": [
    {
     "data": {
      "text/plain": [
       "bool"
      ]
     },
     "execution_count": 45,
     "metadata": {},
     "output_type": "execute_result"
    }
   ],
   "source": [
    "type(b)"
   ]
  },
  {
   "cell_type": "code",
   "execution_count": 46,
   "id": "fa6b9fa5",
   "metadata": {},
   "outputs": [],
   "source": [
    "a = True + True - False"
   ]
  },
  {
   "cell_type": "code",
   "execution_count": 47,
   "id": "67769b44",
   "metadata": {},
   "outputs": [
    {
     "data": {
      "text/plain": [
       "2"
      ]
     },
     "execution_count": 47,
     "metadata": {},
     "output_type": "execute_result"
    }
   ],
   "source": [
    "a"
   ]
  },
  {
   "cell_type": "code",
   "execution_count": 48,
   "id": "8220d953",
   "metadata": {},
   "outputs": [],
   "source": [
    "b = False - True - False - True"
   ]
  },
  {
   "cell_type": "code",
   "execution_count": 49,
   "id": "bbf49e91",
   "metadata": {},
   "outputs": [
    {
     "data": {
      "text/plain": [
       "-2"
      ]
     },
     "execution_count": 49,
     "metadata": {},
     "output_type": "execute_result"
    }
   ],
   "source": [
    "b"
   ]
  },
  {
   "cell_type": "code",
   "execution_count": 50,
   "id": "c4d06d6b",
   "metadata": {},
   "outputs": [
    {
     "data": {
      "text/plain": [
       "1"
      ]
     },
     "execution_count": 50,
     "metadata": {},
     "output_type": "execute_result"
    }
   ],
   "source": [
    "int(True)"
   ]
  },
  {
   "cell_type": "code",
   "execution_count": 51,
   "id": "0e031502",
   "metadata": {},
   "outputs": [
    {
     "data": {
      "text/plain": [
       "0"
      ]
     },
     "execution_count": 51,
     "metadata": {},
     "output_type": "execute_result"
    }
   ],
   "source": [
    "int(False)"
   ]
  },
  {
   "cell_type": "code",
   "execution_count": 53,
   "id": "290b6933",
   "metadata": {},
   "outputs": [],
   "source": [
    "# True/False --> Zero divison error"
   ]
  },
  {
   "cell_type": "code",
   "execution_count": 55,
   "id": "962b9613",
   "metadata": {},
   "outputs": [
    {
     "data": {
      "text/plain": [
       "2"
      ]
     },
     "execution_count": 55,
     "metadata": {},
     "output_type": "execute_result"
    }
   ],
   "source": [
    "(True * True) + (True * True) - (False * True)"
   ]
  },
  {
   "cell_type": "code",
   "execution_count": 56,
   "id": "061ca37a",
   "metadata": {},
   "outputs": [],
   "source": [
    "# complex number\n",
    "\n",
    "a = (2+3j)  # j is the only notation in python for representing a complex number"
   ]
  },
  {
   "cell_type": "code",
   "execution_count": 58,
   "id": "b66eebb7",
   "metadata": {},
   "outputs": [],
   "source": [
    "b = a+2"
   ]
  },
  {
   "cell_type": "code",
   "execution_count": 61,
   "id": "3e12ecbd",
   "metadata": {},
   "outputs": [],
   "source": [
    "c = b + 6j"
   ]
  },
  {
   "cell_type": "code",
   "execution_count": 62,
   "id": "b29496a9",
   "metadata": {},
   "outputs": [
    {
     "data": {
      "text/plain": [
       "(4+9j)"
      ]
     },
     "execution_count": 62,
     "metadata": {},
     "output_type": "execute_result"
    }
   ],
   "source": [
    "c"
   ]
  },
  {
   "cell_type": "code",
   "execution_count": 63,
   "id": "41337c97",
   "metadata": {},
   "outputs": [
    {
     "data": {
      "text/plain": [
       "(8+18j)"
      ]
     },
     "execution_count": 63,
     "metadata": {},
     "output_type": "execute_result"
    }
   ],
   "source": [
    "c * 2"
   ]
  },
  {
   "cell_type": "code",
   "execution_count": 65,
   "id": "6ea9636a",
   "metadata": {},
   "outputs": [
    {
     "data": {
      "text/plain": [
       "(6+6j)"
      ]
     },
     "execution_count": 65,
     "metadata": {},
     "output_type": "execute_result"
    }
   ],
   "source": [
    "a + b"
   ]
  },
  {
   "cell_type": "code",
   "execution_count": 67,
   "id": "e9a0a8c4",
   "metadata": {},
   "outputs": [
    {
     "data": {
      "text/plain": [
       "2.0"
      ]
     },
     "execution_count": 67,
     "metadata": {},
     "output_type": "execute_result"
    }
   ],
   "source": [
    "a.real"
   ]
  },
  {
   "cell_type": "code",
   "execution_count": 68,
   "id": "5be9cef7",
   "metadata": {},
   "outputs": [
    {
     "data": {
      "text/plain": [
       "3.0"
      ]
     },
     "execution_count": 68,
     "metadata": {},
     "output_type": "execute_result"
    }
   ],
   "source": [
    "a.imag"
   ]
  },
  {
   "cell_type": "code",
   "execution_count": 73,
   "id": "ef3d8865",
   "metadata": {},
   "outputs": [
    {
     "data": {
      "text/plain": [
       "(-2-6j)"
      ]
     },
     "execution_count": 73,
     "metadata": {},
     "output_type": "execute_result"
    }
   ],
   "source": [
    "a - c"
   ]
  },
  {
   "cell_type": "code",
   "execution_count": 74,
   "id": "def82361",
   "metadata": {},
   "outputs": [
    {
     "data": {
      "text/plain": [
       "(-19+30j)"
      ]
     },
     "execution_count": 74,
     "metadata": {},
     "output_type": "execute_result"
    }
   ],
   "source": [
    "a * c"
   ]
  },
  {
   "cell_type": "code",
   "execution_count": 75,
   "id": "114d9c9a",
   "metadata": {},
   "outputs": [
    {
     "data": {
      "text/plain": [
       "(2+3j)"
      ]
     },
     "execution_count": 75,
     "metadata": {},
     "output_type": "execute_result"
    }
   ],
   "source": [
    "a"
   ]
  },
  {
   "cell_type": "code",
   "execution_count": 76,
   "id": "aff25732",
   "metadata": {},
   "outputs": [
    {
     "data": {
      "text/plain": [
       "(4+9j)"
      ]
     },
     "execution_count": 76,
     "metadata": {},
     "output_type": "execute_result"
    }
   ],
   "source": [
    "c"
   ]
  },
  {
   "cell_type": "code",
   "execution_count": 77,
   "id": "d4092577",
   "metadata": {},
   "outputs": [],
   "source": [
    "# 1 + \"sudh\" different data types"
   ]
  },
  {
   "cell_type": "code",
   "execution_count": 78,
   "id": "99da1b4f",
   "metadata": {},
   "outputs": [
    {
     "data": {
      "text/plain": [
       "'1sudh'"
      ]
     },
     "execution_count": 78,
     "metadata": {},
     "output_type": "execute_result"
    }
   ],
   "source": [
    "\"1\" + \"sudh\"  # string concatenation"
   ]
  },
  {
   "cell_type": "code",
   "execution_count": 79,
   "id": "f689c0db",
   "metadata": {},
   "outputs": [
    {
     "data": {
      "text/plain": [
       "'sudhsudh'"
      ]
     },
     "execution_count": 79,
     "metadata": {},
     "output_type": "execute_result"
    }
   ],
   "source": [
    "2 * \"sudh\""
   ]
  },
  {
   "cell_type": "code",
   "execution_count": 80,
   "id": "34c0438c",
   "metadata": {},
   "outputs": [],
   "source": [
    "# type casting --> converting one data type into another data type"
   ]
  },
  {
   "cell_type": "code",
   "execution_count": 82,
   "id": "a4688677",
   "metadata": {},
   "outputs": [
    {
     "data": {
      "text/plain": [
       "'1sudh'"
      ]
     },
     "execution_count": 82,
     "metadata": {},
     "output_type": "execute_result"
    }
   ],
   "source": [
    "str(1) + \"sudh\""
   ]
  },
  {
   "cell_type": "code",
   "execution_count": 83,
   "id": "f1b01aeb",
   "metadata": {},
   "outputs": [
    {
     "data": {
      "text/plain": [
       "'11'"
      ]
     },
     "execution_count": 83,
     "metadata": {},
     "output_type": "execute_result"
    }
   ],
   "source": [
    "\"1\" + \"1\""
   ]
  },
  {
   "cell_type": "code",
   "execution_count": 84,
   "id": "fb961c10",
   "metadata": {},
   "outputs": [
    {
     "data": {
      "text/plain": [
       "2.0"
      ]
     },
     "execution_count": 84,
     "metadata": {},
     "output_type": "execute_result"
    }
   ],
   "source": [
    "1 + 1.0 # why 2.0 ?? because floating point occupies more space compare to int data type\n",
    "# This is type casting"
   ]
  },
  {
   "cell_type": "code",
   "execution_count": 85,
   "id": "bd8c9240",
   "metadata": {},
   "outputs": [],
   "source": [
    "# subtraction and division will not work incase of string"
   ]
  },
  {
   "cell_type": "code",
   "execution_count": 87,
   "id": "3bc1c82c",
   "metadata": {},
   "outputs": [],
   "source": [
    "# \"shubham\" * \"shubham\" # Type error"
   ]
  },
  {
   "cell_type": "code",
   "execution_count": 89,
   "id": "00f24e84",
   "metadata": {},
   "outputs": [
    {
     "data": {
      "text/plain": [
       "2"
      ]
     },
     "execution_count": 89,
     "metadata": {},
     "output_type": "execute_result"
    }
   ],
   "source": [
    "int(2.8)"
   ]
  },
  {
   "cell_type": "code",
   "execution_count": 92,
   "id": "9e3be220",
   "metadata": {},
   "outputs": [
    {
     "name": "stdout",
     "output_type": "stream",
     "text": [
      "Enter a number: 10\n"
     ]
    }
   ],
   "source": [
    "# input from the user\n",
    "\n",
    "a = input(\"Enter a number: \")"
   ]
  },
  {
   "cell_type": "code",
   "execution_count": 94,
   "id": "93a4aa5f",
   "metadata": {},
   "outputs": [
    {
     "data": {
      "text/plain": [
       "str"
      ]
     },
     "execution_count": 94,
     "metadata": {},
     "output_type": "execute_result"
    }
   ],
   "source": [
    "type(a)"
   ]
  },
  {
   "cell_type": "code",
   "execution_count": 96,
   "id": "3ac3226e",
   "metadata": {},
   "outputs": [
    {
     "data": {
      "text/plain": [
       "10"
      ]
     },
     "execution_count": 96,
     "metadata": {},
     "output_type": "execute_result"
    }
   ],
   "source": [
    "int(a)"
   ]
  },
  {
   "cell_type": "code",
   "execution_count": 97,
   "id": "ebd3db77",
   "metadata": {},
   "outputs": [],
   "source": [
    "# or we can directly convert into integer using int there itself"
   ]
  },
  {
   "cell_type": "code",
   "execution_count": 98,
   "id": "724da0ca",
   "metadata": {},
   "outputs": [
    {
     "name": "stdout",
     "output_type": "stream",
     "text": [
      "Enter a number: 10\n"
     ]
    }
   ],
   "source": [
    "a = int(input('Enter a number: '))"
   ]
  },
  {
   "cell_type": "code",
   "execution_count": 99,
   "id": "29c2bcea",
   "metadata": {},
   "outputs": [
    {
     "data": {
      "text/plain": [
       "10"
      ]
     },
     "execution_count": 99,
     "metadata": {},
     "output_type": "execute_result"
    }
   ],
   "source": [
    "a"
   ]
  },
  {
   "cell_type": "code",
   "execution_count": 108,
   "id": "ca1b6599",
   "metadata": {},
   "outputs": [
    {
     "name": "stdout",
     "output_type": "stream",
     "text": [
      "Enter first number: 45\n",
      "Enter second number: 454\n",
      "Enter third number: 454\n"
     ]
    },
    {
     "data": {
      "text/plain": [
       "'(124+6j) shubham'"
      ]
     },
     "execution_count": 108,
     "metadata": {},
     "output_type": "execute_result"
    }
   ],
   "source": [
    "a = int(input('Enter first number: '))\n",
    "b = int(input('Enter second number: '))\n",
    "c = int(input('Enter third number: '))\n",
    "\n",
    "o = a + b/c\n",
    "\n",
    "o1 = o + (78 + 6j)\n",
    "\n",
    "ss = str(o1) + \" shubham\"\n",
    "\n",
    "ss"
   ]
  },
  {
   "cell_type": "code",
   "execution_count": 104,
   "id": "1d5a59e4",
   "metadata": {},
   "outputs": [],
   "source": [
    "# 11.0 + (10 + 2j)  so, 11.0 + 10 --> 21 and not 21.0"
   ]
  },
  {
   "cell_type": "code",
   "execution_count": 107,
   "id": "07e69325",
   "metadata": {},
   "outputs": [],
   "source": [
    "# int(21+2j) cannot convert complex into int"
   ]
  },
  {
   "cell_type": "code",
   "execution_count": 112,
   "id": "e9302a11",
   "metadata": {},
   "outputs": [
    {
     "data": {
      "text/plain": [
       "(124+6j)"
      ]
     },
     "execution_count": 112,
     "metadata": {},
     "output_type": "execute_result"
    }
   ],
   "source": [
    "45 + 454/454 + (78+6j)"
   ]
  },
  {
   "cell_type": "code",
   "execution_count": 113,
   "id": "e6bd799e",
   "metadata": {},
   "outputs": [],
   "source": [
    "# Decision making statements"
   ]
  },
  {
   "cell_type": "code",
   "execution_count": 117,
   "id": "3064f689",
   "metadata": {},
   "outputs": [
    {
     "name": "stdout",
     "output_type": "stream",
     "text": [
      "Enter a number less than 34: 10\n",
      "okk, The number is less than 34\n"
     ]
    }
   ],
   "source": [
    "a = int(input('Enter a number less than 34: '))\n",
    "\n",
    "if a < 34:\n",
    "    print('okk, The number is less than 34')\n",
    "elif a==34:\n",
    "    print('The number is 34')\n",
    "else:\n",
    "    print('The number is not less than 34')"
   ]
  },
  {
   "cell_type": "code",
   "execution_count": 118,
   "id": "16be248a",
   "metadata": {},
   "outputs": [],
   "source": [
    "if a<34:\n",
    "    pass\n",
    "# To avoid error we can use pass keyword"
   ]
  },
  {
   "cell_type": "code",
   "execution_count": 121,
   "id": "63892b9b",
   "metadata": {},
   "outputs": [
    {
     "name": "stdout",
     "output_type": "stream",
     "text": [
      "Choose an option A,B,C or D: D\n",
      "php\n"
     ]
    }
   ],
   "source": [
    "option = input('Choose an option A,B,C or D: ')\n",
    "\n",
    "if option == 'A':\n",
    "    print('Python')\n",
    "elif option == 'B':\n",
    "    print('C++')\n",
    "elif option == 'C':\n",
    "    print('Java')\n",
    "else:\n",
    "    print('php')"
   ]
  },
  {
   "cell_type": "code",
   "execution_count": 123,
   "id": "7e05293e",
   "metadata": {},
   "outputs": [
    {
     "name": "stdout",
     "output_type": "stream",
     "text": [
      "Enter a number lesser than 34: 23\n",
      "less than 34\n",
      "Hello shubham\n"
     ]
    }
   ],
   "source": [
    "a = int(input('Enter a number lesser than 34: '))\n",
    "\n",
    "if a<34:\n",
    "    print('less than 34')\n",
    "print('Hello shubham')  # this is a seperate statement..."
   ]
  },
  {
   "cell_type": "code",
   "execution_count": 128,
   "id": "5fecb83e",
   "metadata": {},
   "outputs": [
    {
     "name": "stdout",
     "output_type": "stream",
     "text": [
      "Enter your salary: 1000\n",
      "I willl buy a bike\n"
     ]
    }
   ],
   "source": [
    "salary = int(input('Enter your salary: '))\n",
    "\n",
    "if salary > 1000:\n",
    "    print('I will buy a car')\n",
    "elif (salary > 500) and (salary <= 1000):\n",
    "    print('I willl buy a bike')\n",
    "elif (salary > 100) and (salary <= 500):\n",
    "    print('I will buy books')\n",
    "else:\n",
    "    print('I will go for saving')"
   ]
  },
  {
   "cell_type": "code",
   "execution_count": 151,
   "id": "17d974dd",
   "metadata": {},
   "outputs": [
    {
     "name": "stdout",
     "output_type": "stream",
     "text": [
      "Enter your salary: 7000\n",
      "Your salary is good\n",
      "I will buy a maruti\n",
      "oh no!!\n"
     ]
    }
   ],
   "source": [
    "# nested statement\n",
    "\n",
    "salary = int(input('Enter your salary: '))\n",
    "\n",
    "if salary > 1000:\n",
    "    print('Your salary is good')\n",
    "    if (salary > 2000) and (salary <= 5000):\n",
    "        print('I will buy a nano')\n",
    "        \n",
    "        if True:\n",
    "            print('Hello world')\n",
    "    elif (salary>5000) and (salary<=10000):\n",
    "        print('I will buy a maruti')\n",
    "        if (salary>=5000) and (salary<=6000):\n",
    "            \n",
    "            print('WoW')\n",
    "        else:\n",
    "            print('oh no!!')\n",
    "    elif (salary>10000):\n",
    "        print('I will buy a Toyota')\n",
    "    else:\n",
    "        print('I will rent a car')\n",
    "elif salary > 500 and (salary <= 1000):\n",
    "    print('I will buy a bike')\n",
    "elif (salary > 100) and (salary <= 500):\n",
    "    print('I will buy a book')\n",
    "else:\n",
    "    print('I will save money')"
   ]
  },
  {
   "cell_type": "code",
   "execution_count": 152,
   "id": "cebfc72b",
   "metadata": {},
   "outputs": [],
   "source": [
    "a = 45<34"
   ]
  },
  {
   "cell_type": "code",
   "execution_count": 154,
   "id": "18ebd1df",
   "metadata": {},
   "outputs": [
    {
     "name": "stdout",
     "output_type": "stream",
     "text": [
      "This is also True\n"
     ]
    }
   ],
   "source": [
    "if a==False:\n",
    "    print('This is also True')"
   ]
  },
  {
   "cell_type": "code",
   "execution_count": 150,
   "id": "64af04b2",
   "metadata": {},
   "outputs": [
    {
     "data": {
      "text/plain": [
       "'\\nConclusion:-\\nprint statement, type statement, input statement, variables and datatypes, concatination, typecasting(one data type into another), upcasting, pass keyword,\\nsingle line and multiline statements, if/elif/else statement, nested statement\\n'"
      ]
     },
     "execution_count": 150,
     "metadata": {},
     "output_type": "execute_result"
    }
   ],
   "source": [
    "\"\"\"\n",
    "Conclusion:-\n",
    "print statement, type statement, input statement, variables and datatypes, concatination, typecasting(one data type into another), upcasting, pass keyword,\n",
    "single line and multiline statements, if/elif/else statement, nested statement, \n",
    "\"\"\""
   ]
  },
  {
   "cell_type": "markdown",
   "id": "4231d681",
   "metadata": {},
   "source": [
    "### While and For loop"
   ]
  },
  {
   "cell_type": "code",
   "execution_count": null,
   "id": "987a4b0e",
   "metadata": {},
   "outputs": [],
   "source": []
  }
 ],
 "metadata": {
  "kernelspec": {
   "display_name": "Python 3 (ipykernel)",
   "language": "python",
   "name": "python3"
  },
  "language_info": {
   "codemirror_mode": {
    "name": "ipython",
    "version": 3
   },
   "file_extension": ".py",
   "mimetype": "text/x-python",
   "name": "python",
   "nbconvert_exporter": "python",
   "pygments_lexer": "ipython3",
   "version": "3.9.7"
  }
 },
 "nbformat": 4,
 "nbformat_minor": 5
}
